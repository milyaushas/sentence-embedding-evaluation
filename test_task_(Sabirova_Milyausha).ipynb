{
  "nbformat": 4,
  "nbformat_minor": 0,
  "metadata": {
    "colab": {
      "provenance": [],
      "toc_visible": true,
      "gpuType": "T4"
    },
    "kernelspec": {
      "name": "python3",
      "display_name": "Python 3"
    },
    "language_info": {
      "name": "python"
    },
    "accelerator": "GPU"
  },
  "cells": [
    {
      "cell_type": "markdown",
      "source": [
        "#Задача\n",
        "Сравнить несколько подходов к получению векторных представлений текста"
      ],
      "metadata": {
        "id": "AW6qnilIg9F6"
      }
    },
    {
      "cell_type": "markdown",
      "source": [
        "# Детали проведения экспериментов\n",
        "Я решила сравнить 2 подхода к построению эмбеддингов для предложений: агрегированные эмбеддинги Word2Vec и векторы, полученные с помощью SentenceTransformers. В качестве метрики я выбрала semantic textual similarity(STS), потому что она хорошо интерпретируема, для ее оценки есть множество широко используемых датасетов  и для проведения экспериментов с ней в самом простом варианте не нужно дополнительно дообучать какие-либо модели.\n",
        "\n",
        "#Гипотеза:\n",
        "Эмбеддинги, полученные с помощью SentenceTransformers, будут показывать более лучшие результаты в задаче semantic textual similarity, чем эмбеддинги для предложений, построенные с помощью агрегирования предобученных векторов Word2Vec для слов предложения.\n",
        "\n",
        "Почему возникла эта гипотеза?\n",
        "\n",
        "1) В этой статье https://arxiv.org/pdf/1908.10084.pdf были проведены похожие эксперименты с использованием average GloVe embeddings и SentenceTransformers embeddings. Видим, что второй подход дает результаты значительно лучше.\n",
        "\n",
        "2) Агрегированные вектора по своей сути похожи на \"мешок слов\", то есть мы можем понять примерную семантику предложения по отдельным словам, но истинная суть текста очень сильно зависит от порядка слов в предложениях. Агрегированные вектора никак не могут учесть порядок слов предложений, а трансформерные могут, то есть и смысл текста трансформерные векторы будут передавать лучше агрегированных.\n",
        "\n",
        "\n",
        "# Технические детали\n",
        "1)Для оценки качества эмбеддингов я использую SentEval(https://github.com/facebookresearch/SentEval). Я провожу эксперименты на всех доступных semantic textual similarity датасетах. В качестве основной метрики я использую коэффициент корреляции Спирмена между cosine-similarity эмбеддингов и лейблом в датасетах, потому что в статье про SentenceTransformers делается отсылка на другую статью авторов, в которой показано, что коэффициент корреляции Спирмена для оценки качества эмбеддингов предложений подходит лучше в задачах STS, чем коэффициент корреляции Пирсона.\n",
        "\n",
        "2) Для получения агрегированных эмбеддингов я использую готовые предобученные вектора 'word2vec-google-news-300', которые я загружаю с помощью gensim-api(https://radimrehurek.com/gensim/apiref.html). Эмбеддинги для предложения получаются следующим образом: я привожу слова в нижний регистр, после разделяю предложение на токены, инициализирую результирующий вектор нулевым, нахожу вектор для каждого отдельного токена, если слова нет в датасете эмбеддингов, то пропускаю его, иначе прибавляю найденный вектор к результату.\n",
        "\n",
        "3) Для трансформерных эмбеддингов я взяла готовую модель отсюда https://huggingface.co/sentence-transformers/all-MiniLM-L6-v2. Я сразу применяю ее для получения эмбеддингов предложений без какого-либо дополнительного дообучения."
      ],
      "metadata": {
        "id": "yoQHgAyNf7gr"
      }
    },
    {
      "cell_type": "markdown",
      "source": [
        "# Эксперименты"
      ],
      "metadata": {
        "id": "jfs31tWxqheG"
      }
    },
    {
      "cell_type": "markdown",
      "source": [
        "## Устанавливаем библиотеку SentEval и выбираем нужные задачи"
      ],
      "metadata": {
        "id": "qlf57b8RJmKV"
      }
    },
    {
      "cell_type": "code",
      "source": [
        "!rm -rf ./SentEval\n",
        "!git clone https://github.com/facebookresearch/SentEval.git\n",
        "%cd /content/SentEval/data/downstream"
      ],
      "metadata": {
        "id": "WqDYPg7vJ1jo"
      },
      "execution_count": null,
      "outputs": []
    },
    {
      "cell_type": "code",
      "source": [
        "!bash get_transfer_data.bash\n",
        "%cd ..\n",
        "%cd ..\n",
        "!ls"
      ],
      "metadata": {
        "id": "pK_QuMDVJ4Ei"
      },
      "execution_count": null,
      "outputs": []
    },
    {
      "cell_type": "code",
      "source": [
        "import senteval\n",
        "import numpy as np\n",
        "\n",
        "PATH_TO_DATA = './data'\n",
        "params_senteval = {'task_path': PATH_TO_DATA,\n",
        "                   'usepytorch': True,\n",
        "                   'kfold': 10}\n",
        "tasks = [\n",
        "    'STSBenchmark',\n",
        "    'STS12',\n",
        "    'STS13',\n",
        "    'STS14',\n",
        "    'STS15',\n",
        "    'STS16',\n",
        "]"
      ],
      "metadata": {
        "id": "e-syEMUgKVjL"
      },
      "execution_count": 110,
      "outputs": []
    },
    {
      "cell_type": "markdown",
      "source": [
        "## Агрегированные векторы Word2Vec"
      ],
      "metadata": {
        "id": "jBg7LMeKqp2n"
      }
    },
    {
      "cell_type": "code",
      "source": [
        "import gensim.downloader as api\n",
        "\n",
        "model_w2v = api.load('word2vec-google-news-300')"
      ],
      "metadata": {
        "id": "dyeASgRfq7Ry"
      },
      "execution_count": 88,
      "outputs": []
    },
    {
      "cell_type": "code",
      "source": [
        "def batcher_w2v(params, batch):\n",
        "    batch = [sent if sent != [] else ['.'] for sent in batch]\n",
        "    embeddings = []\n",
        "\n",
        "    for sent in batch:\n",
        "        sentvec = []\n",
        "        for word in sent:\n",
        "            if word in model_w2v:\n",
        "                sentvec.append(model_w2v[word])\n",
        "        if not sentvec:\n",
        "            vec = np.zeros(300)\n",
        "            sentvec.append(vec)\n",
        "        sentvec = np.mean(sentvec, 0)\n",
        "        embeddings.append(sentvec)\n",
        "\n",
        "    return np.vstack(embeddings)\n",
        "\n",
        "se = senteval.engine.SE(params_senteval, batcher_w2v)\n",
        "results_w2v = se.eval(tasks)\n",
        "\n",
        "results_w2v"
      ],
      "metadata": {
        "colab": {
          "base_uri": "https://localhost:8080/"
        },
        "id": "c_Q-Kh6o7ihs",
        "outputId": "ebf0bcda-a580-4b45-b10d-5479ebdee785"
      },
      "execution_count": 111,
      "outputs": [
        {
          "output_type": "stream",
          "name": "stderr",
          "text": [
            "[NeMo W 2023-10-02 02:56:53 nemo_logging:349] /content/SentEval/senteval/sts.py:42: VisibleDeprecationWarning: Creating an ndarray from ragged nested sequences (which is a list-or-tuple of lists-or-tuples-or ndarrays with different lengths or shapes) is deprecated. If you meant to do this, you must specify 'dtype=object' when creating the ndarray.\n",
            "      sent1 = np.array([s.split() for s in sent1])[not_empty_idx]\n",
            "    \n",
            "[NeMo W 2023-10-02 02:56:53 nemo_logging:349] /content/SentEval/senteval/sts.py:43: VisibleDeprecationWarning: Creating an ndarray from ragged nested sequences (which is a list-or-tuple of lists-or-tuples-or ndarrays with different lengths or shapes) is deprecated. If you meant to do this, you must specify 'dtype=object' when creating the ndarray.\n",
            "      sent2 = np.array([s.split() for s in sent2])[not_empty_idx]\n",
            "    \n",
            "[NeMo W 2023-10-02 02:56:54 nemo_logging:349] /content/SentEval/senteval/utils.py:39: RuntimeWarning: invalid value encountered in double_scalars\n",
            "      return np.dot(u, v) / (np.linalg.norm(u) * np.linalg.norm(v))\n",
            "    \n"
          ]
        },
        {
          "output_type": "execute_result",
          "data": {
            "text/plain": [
              "{'STSBenchmark': {'devpearson': 0.7131674180528703,\n",
              "  'pearson': 0.6423486032945015,\n",
              "  'spearman': 0.6196792730335671,\n",
              "  'mse': 1.6468258431225555,\n",
              "  'yhat': array([1.70262126, 1.53167721, 2.08265509, ..., 3.70078188, 3.62982191,\n",
              "         3.32651225]),\n",
              "  'ndev': 1500,\n",
              "  'ntest': 1379},\n",
              " 'STS12': {'MSRpar': {'pearson': PearsonRResult(statistic=0.39744133044415353, pvalue=8.65068272332563e-30),\n",
              "   'spearman': SignificanceResult(statistic=0.4090561420732993, pvalue=1.2814345402211917e-31),\n",
              "   'nsamples': 750},\n",
              "  'MSRvid': {'pearson': PearsonRResult(statistic=0.7810864972457823, pvalue=3.889587845740084e-155),\n",
              "   'spearman': SignificanceResult(statistic=0.7646224554203609, pvalue=7.39402451804042e-145),\n",
              "   'nsamples': 750},\n",
              "  'SMTeuroparl': {'pearson': PearsonRResult(statistic=0.16272917720970084, pvalue=0.00046489553722674866),\n",
              "   'spearman': SignificanceResult(statistic=0.4985593690637984, pvalue=3.2574023419063176e-30),\n",
              "   'nsamples': 459},\n",
              "  'surprise.OnWN': {'pearson': PearsonRResult(statistic=0.7106490862277243, pvalue=2.4417876545568574e-116),\n",
              "   'spearman': SignificanceResult(statistic=0.6794070737889304, pvalue=1.1672098438662247e-102),\n",
              "   'nsamples': 750},\n",
              "  'surprise.SMTnews': {'pearson': PearsonRResult(statistic=0.5290701626836256, pvalue=3.686806371859939e-30),\n",
              "   'spearman': SignificanceResult(statistic=0.42187159297521476, pvalue=1.1934691265712115e-18),\n",
              "   'nsamples': 399},\n",
              "  'all': {'pearson': {'mean': 0.5161952507621973, 'wmean': 0.5478360272484762},\n",
              "   'spearman': {'mean': 0.5547033266643207, 'wmean': 0.5749613157848575}}},\n",
              " 'STS13': {'FNWN': {'pearson': PearsonRResult(statistic=0.4122002596510062, pvalue=3.784383920217425e-09),\n",
              "   'spearman': SignificanceResult(statistic=0.4076077326270916, pvalue=5.839130174941918e-09),\n",
              "   'nsamples': 189},\n",
              "  'headlines': {'pearson': PearsonRResult(statistic=0.6521980633685338, pvalue=4.603423856253161e-92),\n",
              "   'spearman': SignificanceResult(statistic=0.6409034301063032, pvalue=5.588372291681911e-88),\n",
              "   'nsamples': 750},\n",
              "  'OnWN': {'pearson': PearsonRResult(statistic=0.6829409367642757, pvalue=2.8035230977390773e-78),\n",
              "   'spearman': SignificanceResult(statistic=0.6984287385388497, pvalue=2.9568490665419985e-83),\n",
              "   'nsamples': 561},\n",
              "  'all': {'pearson': {'mean': 0.5824464199279386, 'wmean': 0.6334561747501328},\n",
              "   'spearman': {'mean': 0.5823133004240815, 'wmean': 0.633022637577695}}},\n",
              " 'STS14': {'deft-forum': {'pearson': PearsonRResult(statistic=0.4266477326894557, pvalue=2.483882299368499e-21),\n",
              "   'spearman': SignificanceResult(statistic=0.44563959903542194, pvalue=2.4331257127268568e-23),\n",
              "   'nsamples': 450},\n",
              "  'deft-news': {'pearson': PearsonRResult(statistic=0.6728472341233831, pvalue=6.724240580700525e-41),\n",
              "   'spearman': SignificanceResult(statistic=0.6400380344824631, pvalue=5.645072392455152e-36),\n",
              "   'nsamples': 300},\n",
              "  'headlines': {'pearson': PearsonRResult(statistic=0.6188353907342153, pvalue=1.7792962773567364e-80),\n",
              "   'spearman': SignificanceResult(statistic=0.5827447704858779, pvalue=2.0332347368336126e-69),\n",
              "   'nsamples': 750},\n",
              "  'images': {'pearson': PearsonRResult(statistic=0.7745744003185243, pvalue=5.752286034024107e-151),\n",
              "   'spearman': SignificanceResult(statistic=0.7459823586541858, pvalue=3.4170429992914893e-134),\n",
              "   'nsamples': 750},\n",
              "  'OnWN': {'pearson': PearsonRResult(statistic=0.7512331882085734, pvalue=4.2232259960309777e-137),\n",
              "   'spearman': SignificanceResult(statistic=0.7785136712045678, pvalue=1.796171878763553e-153),\n",
              "   'nsamples': 750},\n",
              "  'tweet-news': {'pearson': PearsonRResult(statistic=0.6926414899405966, pvalue=3.0643178779126654e-108),\n",
              "   'spearman': SignificanceResult(statistic=0.6499530921575137, pvalue=3.081536361720108e-91),\n",
              "   'nsamples': 750},\n",
              "  'all': {'pearson': {'mean': 0.656129906002458, 'wmean': 0.6724824004929871},\n",
              "   'spearman': {'mean': 0.640478587670005, 'wmean': 0.6561185731432768}}},\n",
              " 'STS15': {'answers-forums': {'pearson': PearsonRResult(statistic=0.539534906610807, pvalue=1.035941100580621e-29),\n",
              "   'spearman': SignificanceResult(statistic=0.5126017532474496, pvalue=1.6286216917784e-26),\n",
              "   'nsamples': 375},\n",
              "  'answers-students': {'pearson': PearsonRResult(statistic=0.7276161713551783, pvalue=1.4639213934537027e-124),\n",
              "   'spearman': SignificanceResult(statistic=0.7451134740279076, pvalue=1.0184614706496645e-133),\n",
              "   'nsamples': 750},\n",
              "  'belief': {'pearson': PearsonRResult(statistic=0.6188835373094291, pvalue=5.108729894065372e-41),\n",
              "   'spearman': SignificanceResult(statistic=0.6530082530980066, pvalue=5.98609958084534e-47),\n",
              "   'nsamples': 375},\n",
              "  'headlines': {'pearson': PearsonRResult(statistic=0.6871790309194433, pvalue=6.69972849550095e-106),\n",
              "   'spearman': SignificanceResult(statistic=0.6756798825614836, pvalue=3.855722081604914e-101),\n",
              "   'nsamples': 750},\n",
              "  'images': {'pearson': PearsonRResult(statistic=0.8021505919196498, pvalue=1.1358732585253417e-169),\n",
              "   'spearman': SignificanceResult(statistic=0.8121063450627801, pvalue=3.6204311561906457e-177),\n",
              "   'nsamples': 750},\n",
              "  'all': {'pearson': {'mean': 0.6750728476229015, 'wmean': 0.6990387540385973},\n",
              "   'spearman': {'mean': 0.6797019415995255, 'wmean': 0.7039261762062249}}},\n",
              " 'STS16': {'answer-answer': {'pearson': PearsonRResult(statistic=0.4305912512203042, pvalue=6.885437892059955e-13),\n",
              "   'spearman': SignificanceResult(statistic=0.4438652153790475, pvalue=1.0962068061221027e-13),\n",
              "   'nsamples': 254},\n",
              "  'headlines': {'pearson': PearsonRResult(statistic=0.6663999544730647, pvalue=2.440172511169742e-33),\n",
              "   'spearman': SignificanceResult(statistic=0.6788382546322916, pvalue=5.499870495680126e-35),\n",
              "   'nsamples': 249},\n",
              "  'plagiarism': {'pearson': PearsonRResult(statistic=0.7581914736696019, pvalue=3.1234812982378553e-44),\n",
              "   'spearman': SignificanceResult(statistic=0.7527228654254128, pvalue=2.8229994656064166e-43),\n",
              "   'nsamples': 230},\n",
              "  'postediting': {'pearson': PearsonRResult(statistic=0.7334675359688574, pvalue=1.8503435701948635e-42),\n",
              "   'spearman': SignificanceResult(statistic=0.7893695525323239, pvalue=3.4197764021697353e-53),\n",
              "   'nsamples': 244},\n",
              "  'question-question': {'pearson': PearsonRResult(statistic=0.6374266733511456, pvalue=3.156733180556508e-25),\n",
              "   'spearman': SignificanceResult(statistic=0.6494851175520855, pvalue=1.9986477063904525e-26),\n",
              "   'nsamples': 209},\n",
              "  'all': {'pearson': {'mean': 0.6452153777365948, 'wmean': 0.6423912807120989},\n",
              "   'spearman': {'mean': 0.6628562011042323, 'wmean': 0.660410884944213}}}}"
            ]
          },
          "metadata": {},
          "execution_count": 111
        }
      ]
    },
    {
      "cell_type": "markdown",
      "source": [
        "##Sentence Transformers"
      ],
      "metadata": {
        "id": "jNEXd1RKAecr"
      }
    },
    {
      "cell_type": "code",
      "source": [
        "!pip install sentence-transformers"
      ],
      "metadata": {
        "id": "hQYkNfgSEvlO"
      },
      "execution_count": null,
      "outputs": []
    },
    {
      "cell_type": "code",
      "source": [
        "from sentence_transformers import SentenceTransformer\n",
        "\n",
        "model_st = SentenceTransformer('all-MiniLM-L6-v2')"
      ],
      "metadata": {
        "id": "ENPm-MMEFO45"
      },
      "execution_count": 91,
      "outputs": []
    },
    {
      "cell_type": "code",
      "source": [
        "def batcher_st(params, batch):\n",
        "    batch = [' '.join(sent) if sent else '.' for sent in batch]\n",
        "    return model_st.encode(batch)\n",
        "\n",
        "se = senteval.engine.SE(params_senteval, batcher_st)\n",
        "results_st = se.eval(transfer_tasks)\n",
        "\n",
        "results_st"
      ],
      "metadata": {
        "colab": {
          "base_uri": "https://localhost:8080/"
        },
        "id": "Km3WCtsBHPcw",
        "outputId": "f27f211a-e47f-4441-f079-82af606da96a"
      },
      "execution_count": 112,
      "outputs": [
        {
          "output_type": "stream",
          "name": "stderr",
          "text": [
            "[NeMo W 2023-10-02 02:57:35 nemo_logging:349] /content/SentEval/senteval/sts.py:42: VisibleDeprecationWarning: Creating an ndarray from ragged nested sequences (which is a list-or-tuple of lists-or-tuples-or ndarrays with different lengths or shapes) is deprecated. If you meant to do this, you must specify 'dtype=object' when creating the ndarray.\n",
            "      sent1 = np.array([s.split() for s in sent1])[not_empty_idx]\n",
            "    \n",
            "[NeMo W 2023-10-02 02:57:35 nemo_logging:349] /content/SentEval/senteval/sts.py:43: VisibleDeprecationWarning: Creating an ndarray from ragged nested sequences (which is a list-or-tuple of lists-or-tuples-or ndarrays with different lengths or shapes) is deprecated. If you meant to do this, you must specify 'dtype=object' when creating the ndarray.\n",
            "      sent2 = np.array([s.split() for s in sent2])[not_empty_idx]\n",
            "    \n"
          ]
        },
        {
          "output_type": "execute_result",
          "data": {
            "text/plain": [
              "{'STSBenchmark': {'devpearson': 0.8575836165538598,\n",
              "  'pearson': 0.8209868406631583,\n",
              "  'spearman': 0.8244550119836955,\n",
              "  'mse': 1.0223146249185906,\n",
              "  'yhat': array([1.82950827, 2.18019088, 1.74298608, ..., 4.0255325 , 4.36806493,\n",
              "         2.73509503]),\n",
              "  'ndev': 1500,\n",
              "  'ntest': 1379},\n",
              " 'STS12': {'MSRpar': {'pearson': PearsonRResult(statistic=0.5838885716612634, pvalue=9.523977883104918e-70),\n",
              "   'spearman': SignificanceResult(statistic=0.578373326825346, pvalue=3.58948887280327e-68),\n",
              "   'nsamples': 750},\n",
              "  'MSRvid': {'pearson': PearsonRResult(statistic=0.931813139179239, pvalue=0.0),\n",
              "   'spearman': SignificanceResult(statistic=0.9360861990092416, pvalue=0.0),\n",
              "   'nsamples': 750},\n",
              "  'SMTeuroparl': {'pearson': PearsonRResult(statistic=0.5754948058128788, pvalue=7.777842945063242e-42),\n",
              "   'spearman': SignificanceResult(statistic=0.6368355034607547, pvalue=1.4129127890816277e-53),\n",
              "   'nsamples': 459},\n",
              "  'surprise.OnWN': {'pearson': PearsonRResult(statistic=0.7496061440869902, pvalue=3.4235992507925546e-136),\n",
              "   'spearman': SignificanceResult(statistic=0.6901935658018516, pvalue=3.4776917779046977e-107),\n",
              "   'nsamples': 750},\n",
              "  'surprise.SMTnews': {'pearson': PearsonRResult(statistic=0.6761594526734526, pvalue=1.2539510465511974e-54),\n",
              "   'spearman': SignificanceResult(statistic=0.6586720132578678, pvalue=5.486276282810131e-51),\n",
              "   'nsamples': 399},\n",
              "  'all': {'pearson': {'mean': 0.7033924226827649, 'wmean': 0.7184429307208617},\n",
              "   'spearman': {'mean': 0.7000321216710124, 'wmean': 0.7106201570481677}}},\n",
              " 'STS13': {'FNWN': {'pearson': PearsonRResult(statistic=0.5945965063968119, pvalue=1.8725837194050241e-19),\n",
              "   'spearman': SignificanceResult(statistic=0.6035015262776202, pvalue=3.894086588195838e-20),\n",
              "   'nsamples': 189},\n",
              "  'headlines': {'pearson': PearsonRResult(statistic=0.8144822422255183, pvalue=5.050789627723686e-179),\n",
              "   'spearman': SignificanceResult(statistic=0.8249041232456056, pvalue=1.726404448439187e-187),\n",
              "   'nsamples': 750},\n",
              "  'OnWN': {'pearson': PearsonRResult(statistic=0.820956916055767, pvalue=3.7045797103835873e-138),\n",
              "   'spearman': SignificanceResult(statistic=0.8053617729459457, pvalue=4.6838328870345996e-129),\n",
              "   'nsamples': 561},\n",
              "  'all': {'pearson': {'mean': 0.7433452215593658, 'wmean': 0.7891981675236145},\n",
              "   'spearman': {'mean': 0.7445891408230572, 'wmean': 0.7896985570155666}}},\n",
              " 'STS14': {'deft-forum': {'pearson': PearsonRResult(statistic=0.5991893964242136, pvalue=3.3786837741110626e-45),\n",
              "   'spearman': SignificanceResult(statistic=0.5927675842719197, pvalue=4.877915844906552e-44),\n",
              "   'nsamples': 450},\n",
              "  'deft-news': {'pearson': PearsonRResult(statistic=0.8076786929479421, pvalue=2.4412279435587167e-70),\n",
              "   'spearman': SignificanceResult(statistic=0.7631941287191898, pvalue=1.836529289671836e-58),\n",
              "   'nsamples': 300},\n",
              "  'headlines': {'pearson': PearsonRResult(statistic=0.7915744434673007, pvalue=3.660225113283759e-162),\n",
              "   'spearman': SignificanceResult(statistic=0.7634734483528108, pvalue=3.5867198478708376e-144),\n",
              "   'nsamples': 750},\n",
              "  'images': {'pearson': PearsonRResult(statistic=0.9032320101349247, pvalue=5.04063926410626e-277),\n",
              "   'spearman': SignificanceResult(statistic=0.8625481386833052, pvalue=1.6496920881682496e-223),\n",
              "   'nsamples': 750},\n",
              "  'OnWN': {'pearson': PearsonRResult(statistic=0.8688725122045318, pvalue=1.3000448443517063e-230),\n",
              "   'spearman': SignificanceResult(statistic=0.8451308188628633, pvalue=1.198832428080648e-205),\n",
              "   'nsamples': 750},\n",
              "  'tweet-news': {'pearson': PearsonRResult(statistic=0.8067578771971832, pvalue=4.3696610887615695e-173),\n",
              "   'spearman': SignificanceResult(statistic=0.7287175131514662, pvalue=4.0766211821277874e-125),\n",
              "   'nsamples': 750},\n",
              "  'all': {'pearson': {'mean': 0.7962174887293494, 'wmean': 0.8106043916075292},\n",
              "   'spearman': {'mean': 0.7593052720069258, 'wmean': 0.7721616242202547}}},\n",
              " 'STS15': {'answers-forums': {'pearson': PearsonRResult(statistic=0.7982298406335582, pvalue=3.9578397117144387e-84),\n",
              "   'spearman': SignificanceResult(statistic=0.8084163936036306, pvalue=7.137350436983952e-88),\n",
              "   'nsamples': 375},\n",
              "  'answers-students': {'pearson': PearsonRResult(statistic=0.7599111856449439, pvalue=4.532109120667207e-142),\n",
              "   'spearman': SignificanceResult(statistic=0.7676075101136931, pvalue=1.1712966249015066e-146),\n",
              "   'nsamples': 750},\n",
              "  'belief': {'pearson': PearsonRResult(statistic=0.7981066257018793, pvalue=4.379467512428052e-84),\n",
              "   'spearman': SignificanceResult(statistic=0.8241653936752218, pvalue=3.978071129070878e-94),\n",
              "   'nsamples': 375},\n",
              "  'headlines': {'pearson': PearsonRResult(statistic=0.8373243067935989, pvalue=2.409227973882126e-198),\n",
              "   'spearman': SignificanceResult(statistic=0.8394429430728118, pvalue=2.7459323302156194e-200),\n",
              "   'nsamples': 750},\n",
              "  'images': {'pearson': PearsonRResult(statistic=0.9254424740860725, pvalue=1.677409e-317),\n",
              "   'spearman': SignificanceResult(statistic=0.9303506475265725, pvalue=0.0),\n",
              "   'nsamples': 750},\n",
              "  'all': {'pearson': {'mean': 0.8238028865720107, 'wmean': 0.8302115499230834},\n",
              "   'spearman': {'mean': 0.833996577598386, 'wmean': 0.838422998588126}}},\n",
              " 'STS16': {'answer-answer': {'pearson': PearsonRResult(statistic=0.725894814226461, pvalue=7.58214219287001e-43),\n",
              "   'spearman': SignificanceResult(statistic=0.7243633077933657, pvalue=1.3709077864148626e-42),\n",
              "   'nsamples': 254},\n",
              "  'headlines': {'pearson': PearsonRResult(statistic=0.7959981666253705, pvalue=8.908859730173301e-56),\n",
              "   'spearman': SignificanceResult(statistic=0.8125167021560418, pvalue=8.000825082919567e-60),\n",
              "   'nsamples': 249},\n",
              "  'plagiarism': {'pearson': PearsonRResult(statistic=0.8295181060513006, pvalue=1.3198536391604393e-59),\n",
              "   'spearman': SignificanceResult(statistic=0.8360356218777112, pvalue=2.3086152186683443e-61),\n",
              "   'nsamples': 230},\n",
              "  'postediting': {'pearson': PearsonRResult(statistic=0.8573139132377138, pvalue=9.797247671759358e-72),\n",
              "   'spearman': SignificanceResult(statistic=0.8790920878277172, pvalue=7.758266861715451e-80),\n",
              "   'nsamples': 244},\n",
              "  'question-question': {'pearson': PearsonRResult(statistic=0.8056171441544464, pvalue=5.9298069073980595e-49),\n",
              "   'spearman': SignificanceResult(statistic=0.8138415510342052, pvalue=1.0708648120254604e-50),\n",
              "   'nsamples': 209},\n",
              "  'all': {'pearson': {'mean': 0.8028684288590586, 'wmean': 0.8017947459134224},\n",
              "   'spearman': {'mean': 0.8131698541378082, 'wmean': 0.8121285713696077}}}}"
            ]
          },
          "metadata": {},
          "execution_count": 112
        }
      ]
    },
    {
      "cell_type": "markdown",
      "source": [
        "#Результаты"
      ],
      "metadata": {
        "id": "gX-Yot6WSXSl"
      }
    },
    {
      "cell_type": "code",
      "source": [
        "def collect_spearman(results):\n",
        "  spearman = []\n",
        "  for r in results:\n",
        "    if r == 'STSBenchmark':\n",
        "      spearman.append(results[r]['spearman'])\n",
        "    else:\n",
        "      spearman.append(results[r]['all']['spearman']['wmean'])\n",
        "  return spearman"
      ],
      "metadata": {
        "id": "3kyvLgc8Uzl5"
      },
      "execution_count": 123,
      "outputs": []
    },
    {
      "cell_type": "code",
      "source": [
        "w2v = collect_spearman(results_w2v)\n",
        "w2v"
      ],
      "metadata": {
        "colab": {
          "base_uri": "https://localhost:8080/"
        },
        "id": "Dk-WJ8qNVctn",
        "outputId": "f69540ef-c37d-40cf-c39a-2a89a663bfac"
      },
      "execution_count": 126,
      "outputs": [
        {
          "output_type": "execute_result",
          "data": {
            "text/plain": [
              "[0.6196792730335671,\n",
              " 0.5749613157848575,\n",
              " 0.633022637577695,\n",
              " 0.6561185731432768,\n",
              " 0.7039261762062249,\n",
              " 0.660410884944213]"
            ]
          },
          "metadata": {},
          "execution_count": 126
        }
      ]
    },
    {
      "cell_type": "code",
      "source": [
        "st = collect_spearman(results_st)\n",
        "st"
      ],
      "metadata": {
        "colab": {
          "base_uri": "https://localhost:8080/"
        },
        "id": "5XZswOAuV_8t",
        "outputId": "d572ddfc-7e55-41b3-d69a-776d07d5afe2"
      },
      "execution_count": 127,
      "outputs": [
        {
          "output_type": "execute_result",
          "data": {
            "text/plain": [
              "[0.8244550119836955,\n",
              " 0.7106201570481677,\n",
              " 0.7896985570155666,\n",
              " 0.7721616242202547,\n",
              " 0.838422998588126,\n",
              " 0.8121285713696077]"
            ]
          },
          "metadata": {},
          "execution_count": 127
        }
      ]
    },
    {
      "cell_type": "code",
      "source": [
        "import pandas as pd\n",
        "\n",
        "data = {\n",
        "    'Word2Vec_Avg' : w2v,\n",
        "    'SentenceTransformers' : st\n",
        "}\n",
        "\n",
        "df = pd.DataFrame(data, index=tasks)\n",
        "df"
      ],
      "metadata": {
        "colab": {
          "base_uri": "https://localhost:8080/",
          "height": 237
        },
        "id": "Bz9qDpGPWJFU",
        "outputId": "78224bf9-429d-4e61-ea0f-009ed77a1fb8"
      },
      "execution_count": 131,
      "outputs": [
        {
          "output_type": "execute_result",
          "data": {
            "text/plain": [
              "              Word2Vec_Avg  SentenceTransformers\n",
              "STSBenchmark      0.619679              0.824455\n",
              "STS12             0.574961              0.710620\n",
              "STS13             0.633023              0.789699\n",
              "STS14             0.656119              0.772162\n",
              "STS15             0.703926              0.838423\n",
              "STS16             0.660411              0.812129"
            ],
            "text/html": [
              "\n",
              "  <div id=\"df-42eba313-bc38-4e94-967e-24bb7ae116d9\" class=\"colab-df-container\">\n",
              "    <div>\n",
              "<style scoped>\n",
              "    .dataframe tbody tr th:only-of-type {\n",
              "        vertical-align: middle;\n",
              "    }\n",
              "\n",
              "    .dataframe tbody tr th {\n",
              "        vertical-align: top;\n",
              "    }\n",
              "\n",
              "    .dataframe thead th {\n",
              "        text-align: right;\n",
              "    }\n",
              "</style>\n",
              "<table border=\"1\" class=\"dataframe\">\n",
              "  <thead>\n",
              "    <tr style=\"text-align: right;\">\n",
              "      <th></th>\n",
              "      <th>Word2Vec_Avg</th>\n",
              "      <th>SentenceTransformers</th>\n",
              "    </tr>\n",
              "  </thead>\n",
              "  <tbody>\n",
              "    <tr>\n",
              "      <th>STSBenchmark</th>\n",
              "      <td>0.619679</td>\n",
              "      <td>0.824455</td>\n",
              "    </tr>\n",
              "    <tr>\n",
              "      <th>STS12</th>\n",
              "      <td>0.574961</td>\n",
              "      <td>0.710620</td>\n",
              "    </tr>\n",
              "    <tr>\n",
              "      <th>STS13</th>\n",
              "      <td>0.633023</td>\n",
              "      <td>0.789699</td>\n",
              "    </tr>\n",
              "    <tr>\n",
              "      <th>STS14</th>\n",
              "      <td>0.656119</td>\n",
              "      <td>0.772162</td>\n",
              "    </tr>\n",
              "    <tr>\n",
              "      <th>STS15</th>\n",
              "      <td>0.703926</td>\n",
              "      <td>0.838423</td>\n",
              "    </tr>\n",
              "    <tr>\n",
              "      <th>STS16</th>\n",
              "      <td>0.660411</td>\n",
              "      <td>0.812129</td>\n",
              "    </tr>\n",
              "  </tbody>\n",
              "</table>\n",
              "</div>\n",
              "    <div class=\"colab-df-buttons\">\n",
              "\n",
              "  <div class=\"colab-df-container\">\n",
              "    <button class=\"colab-df-convert\" onclick=\"convertToInteractive('df-42eba313-bc38-4e94-967e-24bb7ae116d9')\"\n",
              "            title=\"Convert this dataframe to an interactive table.\"\n",
              "            style=\"display:none;\">\n",
              "\n",
              "  <svg xmlns=\"http://www.w3.org/2000/svg\" height=\"24px\" viewBox=\"0 -960 960 960\">\n",
              "    <path d=\"M120-120v-720h720v720H120Zm60-500h600v-160H180v160Zm220 220h160v-160H400v160Zm0 220h160v-160H400v160ZM180-400h160v-160H180v160Zm440 0h160v-160H620v160ZM180-180h160v-160H180v160Zm440 0h160v-160H620v160Z\"/>\n",
              "  </svg>\n",
              "    </button>\n",
              "\n",
              "  <style>\n",
              "    .colab-df-container {\n",
              "      display:flex;\n",
              "      gap: 12px;\n",
              "    }\n",
              "\n",
              "    .colab-df-convert {\n",
              "      background-color: #E8F0FE;\n",
              "      border: none;\n",
              "      border-radius: 50%;\n",
              "      cursor: pointer;\n",
              "      display: none;\n",
              "      fill: #1967D2;\n",
              "      height: 32px;\n",
              "      padding: 0 0 0 0;\n",
              "      width: 32px;\n",
              "    }\n",
              "\n",
              "    .colab-df-convert:hover {\n",
              "      background-color: #E2EBFA;\n",
              "      box-shadow: 0px 1px 2px rgba(60, 64, 67, 0.3), 0px 1px 3px 1px rgba(60, 64, 67, 0.15);\n",
              "      fill: #174EA6;\n",
              "    }\n",
              "\n",
              "    .colab-df-buttons div {\n",
              "      margin-bottom: 4px;\n",
              "    }\n",
              "\n",
              "    [theme=dark] .colab-df-convert {\n",
              "      background-color: #3B4455;\n",
              "      fill: #D2E3FC;\n",
              "    }\n",
              "\n",
              "    [theme=dark] .colab-df-convert:hover {\n",
              "      background-color: #434B5C;\n",
              "      box-shadow: 0px 1px 3px 1px rgba(0, 0, 0, 0.15);\n",
              "      filter: drop-shadow(0px 1px 2px rgba(0, 0, 0, 0.3));\n",
              "      fill: #FFFFFF;\n",
              "    }\n",
              "  </style>\n",
              "\n",
              "    <script>\n",
              "      const buttonEl =\n",
              "        document.querySelector('#df-42eba313-bc38-4e94-967e-24bb7ae116d9 button.colab-df-convert');\n",
              "      buttonEl.style.display =\n",
              "        google.colab.kernel.accessAllowed ? 'block' : 'none';\n",
              "\n",
              "      async function convertToInteractive(key) {\n",
              "        const element = document.querySelector('#df-42eba313-bc38-4e94-967e-24bb7ae116d9');\n",
              "        const dataTable =\n",
              "          await google.colab.kernel.invokeFunction('convertToInteractive',\n",
              "                                                    [key], {});\n",
              "        if (!dataTable) return;\n",
              "\n",
              "        const docLinkHtml = 'Like what you see? Visit the ' +\n",
              "          '<a target=\"_blank\" href=https://colab.research.google.com/notebooks/data_table.ipynb>data table notebook</a>'\n",
              "          + ' to learn more about interactive tables.';\n",
              "        element.innerHTML = '';\n",
              "        dataTable['output_type'] = 'display_data';\n",
              "        await google.colab.output.renderOutput(dataTable, element);\n",
              "        const docLink = document.createElement('div');\n",
              "        docLink.innerHTML = docLinkHtml;\n",
              "        element.appendChild(docLink);\n",
              "      }\n",
              "    </script>\n",
              "  </div>\n",
              "\n",
              "\n",
              "<div id=\"df-dd14059c-4a1e-4a3b-a24a-05319b1d9520\">\n",
              "  <button class=\"colab-df-quickchart\" onclick=\"quickchart('df-dd14059c-4a1e-4a3b-a24a-05319b1d9520')\"\n",
              "            title=\"Suggest charts.\"\n",
              "            style=\"display:none;\">\n",
              "\n",
              "<svg xmlns=\"http://www.w3.org/2000/svg\" height=\"24px\"viewBox=\"0 0 24 24\"\n",
              "     width=\"24px\">\n",
              "    <g>\n",
              "        <path d=\"M19 3H5c-1.1 0-2 .9-2 2v14c0 1.1.9 2 2 2h14c1.1 0 2-.9 2-2V5c0-1.1-.9-2-2-2zM9 17H7v-7h2v7zm4 0h-2V7h2v10zm4 0h-2v-4h2v4z\"/>\n",
              "    </g>\n",
              "</svg>\n",
              "  </button>\n",
              "\n",
              "<style>\n",
              "  .colab-df-quickchart {\n",
              "      --bg-color: #E8F0FE;\n",
              "      --fill-color: #1967D2;\n",
              "      --hover-bg-color: #E2EBFA;\n",
              "      --hover-fill-color: #174EA6;\n",
              "      --disabled-fill-color: #AAA;\n",
              "      --disabled-bg-color: #DDD;\n",
              "  }\n",
              "\n",
              "  [theme=dark] .colab-df-quickchart {\n",
              "      --bg-color: #3B4455;\n",
              "      --fill-color: #D2E3FC;\n",
              "      --hover-bg-color: #434B5C;\n",
              "      --hover-fill-color: #FFFFFF;\n",
              "      --disabled-bg-color: #3B4455;\n",
              "      --disabled-fill-color: #666;\n",
              "  }\n",
              "\n",
              "  .colab-df-quickchart {\n",
              "    background-color: var(--bg-color);\n",
              "    border: none;\n",
              "    border-radius: 50%;\n",
              "    cursor: pointer;\n",
              "    display: none;\n",
              "    fill: var(--fill-color);\n",
              "    height: 32px;\n",
              "    padding: 0;\n",
              "    width: 32px;\n",
              "  }\n",
              "\n",
              "  .colab-df-quickchart:hover {\n",
              "    background-color: var(--hover-bg-color);\n",
              "    box-shadow: 0 1px 2px rgba(60, 64, 67, 0.3), 0 1px 3px 1px rgba(60, 64, 67, 0.15);\n",
              "    fill: var(--button-hover-fill-color);\n",
              "  }\n",
              "\n",
              "  .colab-df-quickchart-complete:disabled,\n",
              "  .colab-df-quickchart-complete:disabled:hover {\n",
              "    background-color: var(--disabled-bg-color);\n",
              "    fill: var(--disabled-fill-color);\n",
              "    box-shadow: none;\n",
              "  }\n",
              "\n",
              "  .colab-df-spinner {\n",
              "    border: 2px solid var(--fill-color);\n",
              "    border-color: transparent;\n",
              "    border-bottom-color: var(--fill-color);\n",
              "    animation:\n",
              "      spin 1s steps(1) infinite;\n",
              "  }\n",
              "\n",
              "  @keyframes spin {\n",
              "    0% {\n",
              "      border-color: transparent;\n",
              "      border-bottom-color: var(--fill-color);\n",
              "      border-left-color: var(--fill-color);\n",
              "    }\n",
              "    20% {\n",
              "      border-color: transparent;\n",
              "      border-left-color: var(--fill-color);\n",
              "      border-top-color: var(--fill-color);\n",
              "    }\n",
              "    30% {\n",
              "      border-color: transparent;\n",
              "      border-left-color: var(--fill-color);\n",
              "      border-top-color: var(--fill-color);\n",
              "      border-right-color: var(--fill-color);\n",
              "    }\n",
              "    40% {\n",
              "      border-color: transparent;\n",
              "      border-right-color: var(--fill-color);\n",
              "      border-top-color: var(--fill-color);\n",
              "    }\n",
              "    60% {\n",
              "      border-color: transparent;\n",
              "      border-right-color: var(--fill-color);\n",
              "    }\n",
              "    80% {\n",
              "      border-color: transparent;\n",
              "      border-right-color: var(--fill-color);\n",
              "      border-bottom-color: var(--fill-color);\n",
              "    }\n",
              "    90% {\n",
              "      border-color: transparent;\n",
              "      border-bottom-color: var(--fill-color);\n",
              "    }\n",
              "  }\n",
              "</style>\n",
              "\n",
              "  <script>\n",
              "    async function quickchart(key) {\n",
              "      const quickchartButtonEl =\n",
              "        document.querySelector('#' + key + ' button');\n",
              "      quickchartButtonEl.disabled = true;  // To prevent multiple clicks.\n",
              "      quickchartButtonEl.classList.add('colab-df-spinner');\n",
              "      try {\n",
              "        const charts = await google.colab.kernel.invokeFunction(\n",
              "            'suggestCharts', [key], {});\n",
              "      } catch (error) {\n",
              "        console.error('Error during call to suggestCharts:', error);\n",
              "      }\n",
              "      quickchartButtonEl.classList.remove('colab-df-spinner');\n",
              "      quickchartButtonEl.classList.add('colab-df-quickchart-complete');\n",
              "    }\n",
              "    (() => {\n",
              "      let quickchartButtonEl =\n",
              "        document.querySelector('#df-dd14059c-4a1e-4a3b-a24a-05319b1d9520 button');\n",
              "      quickchartButtonEl.style.display =\n",
              "        google.colab.kernel.accessAllowed ? 'block' : 'none';\n",
              "    })();\n",
              "  </script>\n",
              "</div>\n",
              "    </div>\n",
              "  </div>\n"
            ]
          },
          "metadata": {},
          "execution_count": 131
        }
      ]
    },
    {
      "cell_type": "markdown",
      "source": [
        "## Вывод\n",
        "Видим, что мы получили такие результаты, которые и ожидали (коэффициенты корреляции Спирмена у SentenceTransformers больше, поэтому можно предположить, что такой подход к построению эмбеддингов должен помогать лучше улавливать семантику текстов, чем агрегированные векторы Word2Vec)"
      ],
      "metadata": {
        "id": "9sJwRTfZXTka"
      }
    },
    {
      "cell_type": "markdown",
      "source": [
        "## Ссылки на источники\n",
        "\n",
        "https://arxiv.org/abs/1301.3781\n",
        "\n",
        "https://arxiv.org/pdf/1908.10084\n",
        "\n",
        "https://arxiv.org/abs/1803.05449\n",
        "\n",
        "https://aclanthology.org/C16-1009/"
      ],
      "metadata": {
        "id": "KsfpJgHWX31w"
      }
    }
  ]
}